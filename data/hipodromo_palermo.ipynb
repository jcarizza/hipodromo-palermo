{
 "cells": [
  {
   "cell_type": "markdown",
   "metadata": {
    "collapsed": false
   },
   "source": [
    "# La información fue extraída desde la web de https://www.palermo.com.ar/es/turf/calendario-de-carreras usando Scrapy\n"
   ]
  },
  {
   "cell_type": "code",
   "execution_count": 2,
   "metadata": {
    "collapsed": true
   },
   "outputs": [],
   "source": [
    "import pandas as pd\n",
    "import numpy as np"
   ]
  },
  {
   "cell_type": "code",
   "execution_count": 3,
   "metadata": {
    "collapsed": false
   },
   "outputs": [],
   "source": [
    "# Leer archivo en json\n",
    "carreras = pd.read_json('carreras-2017.json', dtype={'pos': 'int64'})"
   ]
  },
  {
   "cell_type": "code",
   "execution_count": 11,
   "metadata": {
    "collapsed": false
   },
   "outputs": [
    {
     "data": {
      "text/html": [
       "<div>\n",
       "<table border=\"1\" class=\"dataframe\">\n",
       "  <thead>\n",
       "    <tr style=\"text-align: right;\">\n",
       "      <th></th>\n",
       "      <th>1ro</th>\n",
       "      <th>2do</th>\n",
       "      <th>3ro</th>\n",
       "    </tr>\n",
       "  </thead>\n",
       "  <tbody>\n",
       "    <tr>\n",
       "      <th>FALERO PABLO G</th>\n",
       "      <td>78</td>\n",
       "      <td>65</td>\n",
       "      <td>56</td>\n",
       "    </tr>\n",
       "    <tr>\n",
       "      <th>NORIEGA JUAN C</th>\n",
       "      <td>55</td>\n",
       "      <td>45</td>\n",
       "      <td>40</td>\n",
       "    </tr>\n",
       "    <tr>\n",
       "      <th>ORTEGA PAVON EDUARDO</th>\n",
       "      <td>52</td>\n",
       "      <td>44</td>\n",
       "      <td>34</td>\n",
       "    </tr>\n",
       "    <tr>\n",
       "      <th>CALVENTE GUSTAVO E</th>\n",
       "      <td>48</td>\n",
       "      <td>42</td>\n",
       "      <td>28</td>\n",
       "    </tr>\n",
       "    <tr>\n",
       "      <th>DOMINGOS ALTAIR</th>\n",
       "      <td>42</td>\n",
       "      <td>48</td>\n",
       "      <td>42</td>\n",
       "    </tr>\n",
       "  </tbody>\n",
       "</table>\n",
       "</div>"
      ],
      "text/plain": [
       "                     1ro 2do 3ro\n",
       "FALERO PABLO G        78  65  56\n",
       "NORIEGA JUAN C        55  45  40\n",
       "ORTEGA PAVON EDUARDO  52  44  34\n",
       "CALVENTE GUSTAVO E    48  42  28\n",
       "DOMINGOS ALTAIR       42  48  42"
      ]
     },
     "execution_count": 11,
     "metadata": {},
     "output_type": "execute_result"
    }
   ],
   "source": [
    "# Cual es el Jockey que mas veces hizo podio\n",
    "group = carreras.groupby(['jockey'])\n",
    "jockey_pos = pd.DataFrame(columns=['1ro', '2do', '3ro'])\n",
    "for g, f in group:\n",
    "    jockey_pos.loc[g, '1ro'] = len(f.loc[f['pos'] == '1'])\n",
    "    jockey_pos.loc[g, '2do'] = len(f.loc[f['pos'] == '2'])\n",
    "    jockey_pos.loc[g, '3ro'] = len(f.loc[f['pos'] == '3'])\n",
    "    \n",
    "jockey_pos.sort_values('1ro', ascending=False).head()"
   ]
  },
  {
   "cell_type": "code",
   "execution_count": 12,
   "metadata": {
    "collapsed": false
   },
   "outputs": [
    {
     "data": {
      "text/html": [
       "<div>\n",
       "<table border=\"1\" class=\"dataframe\">\n",
       "  <thead>\n",
       "    <tr style=\"text-align: right;\">\n",
       "      <th></th>\n",
       "      <th>1ro</th>\n",
       "      <th>2do</th>\n",
       "      <th>3ro</th>\n",
       "    </tr>\n",
       "  </thead>\n",
       "  <tbody>\n",
       "    <tr>\n",
       "      <th>JUAN ANTONIO (BV)</th>\n",
       "      <td>26</td>\n",
       "      <td>19</td>\n",
       "      <td>13</td>\n",
       "    </tr>\n",
       "    <tr>\n",
       "      <th>RUBIO B</th>\n",
       "      <td>18</td>\n",
       "      <td>17</td>\n",
       "      <td>12</td>\n",
       "    </tr>\n",
       "    <tr>\n",
       "      <th>TRAMO 20 (SDE)</th>\n",
       "      <td>14</td>\n",
       "      <td>6</td>\n",
       "      <td>3</td>\n",
       "    </tr>\n",
       "    <tr>\n",
       "      <th>LAS CANARIAS</th>\n",
       "      <td>14</td>\n",
       "      <td>4</td>\n",
       "      <td>6</td>\n",
       "    </tr>\n",
       "    <tr>\n",
       "      <th>FIRMAMENTO</th>\n",
       "      <td>13</td>\n",
       "      <td>11</td>\n",
       "      <td>4</td>\n",
       "    </tr>\n",
       "  </tbody>\n",
       "</table>\n",
       "</div>"
      ],
      "text/plain": [
       "                  1ro 2do 3ro\n",
       "JUAN ANTONIO (BV)  26  19  13\n",
       "RUBIO B            18  17  12\n",
       "TRAMO 20 (SDE)     14   6   3\n",
       "LAS CANARIAS       14   4   6\n",
       "FIRMAMENTO         13  11   4"
      ]
     },
     "execution_count": 12,
     "metadata": {},
     "output_type": "execute_result"
    }
   ],
   "source": [
    "# Las caballerizas que mas hicieron podio\n",
    "group = carreras.groupby(['caballeriza'])\n",
    "caballeriza_pos = pd.DataFrame(columns=['1ro', '2do', '3ro'])\n",
    "for g, f in group:\n",
    "    caballeriza_pos.loc[g, '1ro'] = len(f.loc[f['pos'] == '1'])\n",
    "    caballeriza_pos.loc[g, '2do'] = len(f.loc[f['pos'] == '2'])\n",
    "    caballeriza_pos.loc[g, '3ro'] = len(f.loc[f['pos'] == '3'])\n",
    "    \n",
    "caballeriza_pos.sort_values('1ro', ascending=False).head()"
   ]
  },
  {
   "cell_type": "code",
   "execution_count": null,
   "metadata": {
    "collapsed": true
   },
   "outputs": [],
   "source": [
    "# Segun caballo, jockey y caballeriza calcular posicion\n",
    "caballo = 'HAT VALOR'\n",
    "jockey = 'ORTEGA PAVON EDUARDO'\n",
    "caballeriza = 'BOCA PAILA (AZ)'\n",
    "\n",
    "print(carreras[''])"
   ]
  }
 ],
 "metadata": {
  "anaconda-cloud": {},
  "kernelspec": {
   "display_name": "Python [default]",
   "language": "python",
   "name": "python3"
  },
  "language_info": {
   "codemirror_mode": {
    "name": "ipython",
    "version": 3
   },
   "file_extension": ".py",
   "mimetype": "text/x-python",
   "name": "python",
   "nbconvert_exporter": "python",
   "pygments_lexer": "ipython3",
   "version": "3.5.2"
  }
 },
 "nbformat": 4,
 "nbformat_minor": 1
}
